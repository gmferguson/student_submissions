{
 "cells": [
  {
   "cell_type": "code",
   "execution_count": 1,
   "metadata": {},
   "outputs": [],
   "source": [
    "import pandas as pd\n",
    "import numpy as np\n",
    "import seaborn as sns\n",
    "import matplotlib.pyplot as plt\n",
    "import datetime"
   ]
  },
  {
   "cell_type": "code",
   "execution_count": null,
   "metadata": {},
   "outputs": [
    {
     "name": "stdout",
     "output_type": "stream",
     "text": [
      "Opening file turnstile_180310.txt\n",
      "Opening file turnstile_180317.txt\n",
      "Opening file turnstile_180324.txt\n"
     ]
    }
   ],
   "source": [
    "SEARCH_TYPE = 'Spring'     # 'None' to suppress this cell\n",
    "if SEARCH_TYPE=='Spring':  # SMB: files sometimes don't load, so added try: below\n",
    "    TURNSTILE_PATH = 'http://web.mta.info/developers/data/nyct/turnstile/'\n",
    "    TURNSTILE_FILES = ['turnstile_180310','turnstile_180317','turnstile_180324','turnstile_180331',\n",
    "                      'turnstile_180407','turnstile_180414','turnstile_180421','turnstile_180428',\n",
    "                      'turnstile_180505','turnstile_180512','turnstile_180519','turnstile_180526',\n",
    "                       'turnstile_180602','turnstile_180609']\n",
    "    turnstile_files = [TURNSTILE_PATH + x + '.txt' for x in TURNSTILE_FILES]\n",
    "\n",
    "    tflist = []\n",
    "    for tf in turnstile_files:\n",
    "        print(f'Opening file {tf[-20:]}')\n",
    "        try:\n",
    "            df = pd.read_csv(tf, index_col=None, header=0)\n",
    "            tflist.append(df)\n",
    "        except:\n",
    "            print(f'  Trouble accessing file -> skipping.')\n",
    "    data_nyc_turnstile = pd.concat(tflist)\n",
    "    \n",
    "    #Clean dataframe to include only columns to be used in analysis\n",
    "    data_nyc_turnstile.columns = data_nyc_turnstile.columns.str.replace(' ', '')\n",
    "\n",
    "else:\n",
    "    print('MTA data not loaded; \"data_nyc_turnstiles\" was not refreshed.')"
   ]
  },
  {
   "cell_type": "code",
   "execution_count": null,
   "metadata": {},
   "outputs": [],
   "source": [
    "#Cleaning dataset to include only columns to be used in analysis\n",
    "\n",
    "data_nyc_turnstile.columns = data_nyc_turnstile.columns.str.replace(' ', '')\n",
    "\n",
    "data_nyc_turnstile.columns"
   ]
  },
  {
   "cell_type": "code",
   "execution_count": null,
   "metadata": {},
   "outputs": [],
   "source": [
    "##Including columns for date time series\n",
    "data_nyc_turnstile['Date_time']=data_nyc_turnstile['DATE']+' ' +data_nyc_turnstile['TIME']\n",
    "\n",
    "#Converting ['Datetime'] to datetime series\n",
    "data_nyc_turnstile['Datetime']=pd.to_datetime(data_nyc_turnstile['Date_time'],format=\"%m/%d/%Y %H:%M:%S\")\n",
    "data_nyc_turnstile.drop('Date_time', axis=1, inplace=True)\n",
    "\n",
    "#Adding ['Day of the week']\n",
    "data_nyc_turnstile['Day'] = data_nyc_turnstile['Datetime'].dt.dayofweek\n",
    "data_nyc_turnstile.head(3)"
   ]
  },
  {
   "cell_type": "code",
   "execution_count": null,
   "metadata": {},
   "outputs": [],
   "source": [
    "##Sorting data to calculate traffic for individual turnstile\n",
    "data_nyc_turnstile.sort_values(by=['STATION','LINENAME'], inplace=True)\n",
    "data_nyc_turnstile.head(4)"
   ]
  },
  {
   "cell_type": "code",
   "execution_count": null,
   "metadata": {},
   "outputs": [],
   "source": [
    "###Data in the columns 'Entries' and 'Exits' is cumulative.Finding the total number of entries and exits\n",
    "data_nyc_turnstile['Entry_diff'] = (data_nyc_turnstile.groupby(['STATION', 'LINENAME'])['ENTRIES']\n",
    "                           .diff(periods=-1)) * -1\n",
    "\n",
    "data_nyc_turnstile['Exit_diff']=(data_nyc_turnstile.groupby(['STATION','LINENAME'])['ENTRIES']\n",
    "                           .diff(periods=-1)) * -1\n",
    "\n",
    "data_nyc_turnstile.head(4)"
   ]
  },
  {
   "cell_type": "code",
   "execution_count": null,
   "metadata": {},
   "outputs": [],
   "source": [
    "## Filtering out outliers and negative values\n",
    "data_nyc_turnstile = data_nyc_turnstile[(data_nyc_turnstile['Entry_diff'] >= 0)\n",
    "                & (data_nyc_turnstile['Entry_diff'] < 100000)\n",
    "                & (data_nyc_turnstile['Exit_diff'] >= 0)\n",
    "                & (data_nyc_turnstile['Exit_diff'] < 100000)]"
   ]
  },
  {
   "cell_type": "code",
   "execution_count": null,
   "metadata": {},
   "outputs": [],
   "source": [
    "##Finding total Traffic\n",
    "data_nyc_turnstile['Total_Traffic']=data_nyc_turnstile['Entry_diff']+data_nyc_turnstile['Exit_diff']"
   ]
  },
  {
   "cell_type": "code",
   "execution_count": null,
   "metadata": {},
   "outputs": [],
   "source": [
    "data_nyc_turnstile.head(6)"
   ]
  },
  {
   "cell_type": "code",
   "execution_count": null,
   "metadata": {},
   "outputs": [],
   "source": [
    "## Sorting data by Station with maximum activity\n",
    "station_data=data_nyc_turnstile.groupby(['STATION','LINENAME']).sum()\n",
    "station_data['Station_ID'] = station_data.index\n",
    "#station_data=station_data.sort_values(['Total_Traffic'],ascending=False)\n",
    "station_data['Idx'] = np.arange(station_data.shape[0]) \n",
    "station_data = station_data.set_index('Idx')\n",
    "station_data.head(4)"
   ]
  },
  {
   "cell_type": "code",
   "execution_count": null,
   "metadata": {},
   "outputs": [],
   "source": [
    "from sklearn import preprocessing\n",
    "\n",
    "#Normalizing data\n",
    "\n",
    "traffic_data=station_data['Total_Traffic']\n",
    "df_traffic_data=pd.DataFrame(traffic_data)\n",
    "\n",
    "\n",
    "# Create x, where x the 'Total_Traffic' column's values as floats\n",
    "x = df_traffic_data[['Total_Traffic']].values.astype(float)\n",
    "\n",
    "# Create a minimum and maximum processor object\n",
    "min_max_scaler = preprocessing.MinMaxScaler()\n",
    "\n",
    "# Create an object to transform the data to fit minmax processor\n",
    "x_scaled = min_max_scaler.fit_transform(x)\n",
    "\n",
    "# Run the normalizer on the dataframe\n",
    "df_normalized = pd.DataFrame(x_scaled)\n",
    "\n",
    "#Joining normalized data to stations id\n",
    "stn=station_data['Station_ID']\n",
    "\n",
    "pd_stn=pd.DataFrame(stn)\n",
    "\n",
    "\n",
    "\n",
    "df_short=df_normalized.join(pd_stn)\n",
    "\n",
    "df_short.columns=['Normal_Score','Station_ID']\n",
    "\n",
    "\n",
    "df_short['Total_Entries']=station_data['Entry_diff']\n",
    "df_short['Total_Exits']=station_data['Exit_diff']\n",
    "df_short['Total_Traffic'] = station_data['Total_Traffic']\n",
    "\n",
    "df_short.columns=['MTA_Score','Station_ID','Total_Entries','Total_Exits','Total_Traffic']\n"
   ]
  },
  {
   "cell_type": "code",
   "execution_count": null,
   "metadata": {},
   "outputs": [],
   "source": [
    "df_short.to_csv('df_bystations+lines_shwetasep27.csv')"
   ]
  },
  {
   "cell_type": "code",
   "execution_count": null,
   "metadata": {},
   "outputs": [],
   "source": []
  }
 ],
 "metadata": {
  "kernelspec": {
   "display_name": "Python 3",
   "language": "python",
   "name": "python3"
  },
  "language_info": {
   "codemirror_mode": {
    "name": "ipython",
    "version": 3
   },
   "file_extension": ".py",
   "mimetype": "text/x-python",
   "name": "python",
   "nbconvert_exporter": "python",
   "pygments_lexer": "ipython3",
   "version": "3.6.6"
  }
 },
 "nbformat": 4,
 "nbformat_minor": 2
}
